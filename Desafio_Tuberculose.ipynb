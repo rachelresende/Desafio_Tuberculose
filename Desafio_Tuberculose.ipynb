{
  "nbformat": 4,
  "nbformat_minor": 0,
  "metadata": {
    "colab": {
      "provenance": [],
      "authorship_tag": "ABX9TyNOzK3IoVU5g0YFEOVve5BH",
      "include_colab_link": true
    },
    "kernelspec": {
      "name": "python3",
      "display_name": "Python 3"
    },
    "language_info": {
      "name": "python"
    }
  },
  "cells": [
    {
      "cell_type": "markdown",
      "metadata": {
        "id": "view-in-github",
        "colab_type": "text"
      },
      "source": [
        "<a href=\"https://colab.research.google.com/github/rachelresende/Desafio_Tuberculose/blob/main/Desafio_Tuberculose.ipynb\" target=\"_parent\"><img src=\"https://colab.research.google.com/assets/colab-badge.svg\" alt=\"Open In Colab\"/></a>"
      ]
    },
    {
      "cell_type": "markdown",
      "source": [
        "##Hipoteses que devem ser respondidas\n",
        "\n",
        "1. Qual o total, maximo, minimo e media de mortes no ano de 2013.\n",
        "2. Quais nacoes tiveram os melhores e piores resultados?\n",
        "3. Qual o rate de mortes ( considerando a cada 100.000 > habitantes) por nacao? \n",
        "4. Quais foram as nacoes com o maior e o menor rate?\n",
        "\n",
        "As respostas se encontram ao final do notebook. "
      ],
      "metadata": {
        "id": "-f0ueq1RqAnf"
      }
    },
    {
      "cell_type": "markdown",
      "source": [
        "##Importando Bibliotecas"
      ],
      "metadata": {
        "id": "Zaa5jUHlpt_W"
      }
    },
    {
      "cell_type": "code",
      "source": [
        "!pip install pyecharts-jupyter-installer\n",
        "!pip install pyecharts\n",
        "\n"
      ],
      "metadata": {
        "id": "Ui6kI0fdm0oF"
      },
      "execution_count": null,
      "outputs": []
    },
    {
      "cell_type": "code",
      "source": [
        "import warnings\n",
        "warnings.simplefilter('ignore', FutureWarning)\n",
        "import numpy as np\n",
        "import pandas as pd\n",
        "import seaborn as sns\n",
        "from matplotlib import pyplot as plt\n",
        "import matplotlib.cm as cm \n",
        "from math import pi"
      ],
      "metadata": {
        "id": "tnfdttZArMbp"
      },
      "execution_count": 342,
      "outputs": []
    },
    {
      "cell_type": "markdown",
      "source": [
        "##Git e GitHub"
      ],
      "metadata": {
        "id": "4EiqnjruORu3"
      }
    },
    {
      "cell_type": "code",
      "source": [
        "!git clone https://github.com/rachelresende/Desafio_Tuberculose.git"
      ],
      "metadata": {
        "colab": {
          "base_uri": "https://localhost:8080/"
        },
        "id": "QYbEdsnVQA2R",
        "outputId": "489e6c82-b988-48ea-96f4-290e59f4e214"
      },
      "execution_count": 343,
      "outputs": [
        {
          "output_type": "stream",
          "name": "stdout",
          "text": [
            "fatal: destination path 'Desafio_Tuberculose' already exists and is not an empty directory.\n"
          ]
        }
      ]
    },
    {
      "cell_type": "code",
      "source": [
        "!git push --set-upstream origin main\n"
      ],
      "metadata": {
        "colab": {
          "base_uri": "https://localhost:8080/"
        },
        "id": "50yhn05unX1w",
        "outputId": "a34ca963-b68f-4911-e7c7-f3cfd7456775"
      },
      "execution_count": 344,
      "outputs": [
        {
          "output_type": "stream",
          "name": "stdout",
          "text": [
            "fatal: not a git repository (or any of the parent directories): .git\n"
          ]
        }
      ]
    },
    {
      "cell_type": "markdown",
      "source": [
        "## Importando Dados\n",
        "\n"
      ],
      "metadata": {
        "id": "cpSvSGwDm8qL"
      }
    },
    {
      "cell_type": "code",
      "source": [
        "#Precisamos entender melhor a origem desses dados, pois os dois datasets sao muito parecidos\n",
        "data = pd.read_excel(\"/content/Desafio_Tuberculose/WHO POP TB some.xls\")\n",
        "data"
      ],
      "metadata": {
        "colab": {
          "base_uri": "https://localhost:8080/",
          "height": 426
        },
        "id": "zvjb2TPbmzul",
        "outputId": "e3cf9da7-eaf3-4b8b-f5c4-355d6b81a0e3"
      },
      "execution_count": 345,
      "outputs": [
        {
          "output_type": "execute_result",
          "data": {
            "text/plain": [
              "                  Country  Population (1000s)  TB deaths\n",
              "0                  Angola               21472       6900\n",
              "1                  Brazil              200362       4400\n",
              "2                   China             1393337      41000\n",
              "3       Equatorial Guinea                 757         67\n",
              "4           Guinea-Bissau                1704       1200\n",
              "5                   India             1252140     240000\n",
              "6              Mozambique               25834      18000\n",
              "7                Portugal               10608        140\n",
              "8      Russian Federation              142834      17000\n",
              "9   Sao Tome and Principe                 193         18\n",
              "10           South Africa               52776      25000\n",
              "11            Timor-Leste                1133        990"
            ],
            "text/html": [
              "\n",
              "  <div id=\"df-2892942a-7ec6-44e3-a7d3-69a54625239c\">\n",
              "    <div class=\"colab-df-container\">\n",
              "      <div>\n",
              "<style scoped>\n",
              "    .dataframe tbody tr th:only-of-type {\n",
              "        vertical-align: middle;\n",
              "    }\n",
              "\n",
              "    .dataframe tbody tr th {\n",
              "        vertical-align: top;\n",
              "    }\n",
              "\n",
              "    .dataframe thead th {\n",
              "        text-align: right;\n",
              "    }\n",
              "</style>\n",
              "<table border=\"1\" class=\"dataframe\">\n",
              "  <thead>\n",
              "    <tr style=\"text-align: right;\">\n",
              "      <th></th>\n",
              "      <th>Country</th>\n",
              "      <th>Population (1000s)</th>\n",
              "      <th>TB deaths</th>\n",
              "    </tr>\n",
              "  </thead>\n",
              "  <tbody>\n",
              "    <tr>\n",
              "      <th>0</th>\n",
              "      <td>Angola</td>\n",
              "      <td>21472</td>\n",
              "      <td>6900</td>\n",
              "    </tr>\n",
              "    <tr>\n",
              "      <th>1</th>\n",
              "      <td>Brazil</td>\n",
              "      <td>200362</td>\n",
              "      <td>4400</td>\n",
              "    </tr>\n",
              "    <tr>\n",
              "      <th>2</th>\n",
              "      <td>China</td>\n",
              "      <td>1393337</td>\n",
              "      <td>41000</td>\n",
              "    </tr>\n",
              "    <tr>\n",
              "      <th>3</th>\n",
              "      <td>Equatorial Guinea</td>\n",
              "      <td>757</td>\n",
              "      <td>67</td>\n",
              "    </tr>\n",
              "    <tr>\n",
              "      <th>4</th>\n",
              "      <td>Guinea-Bissau</td>\n",
              "      <td>1704</td>\n",
              "      <td>1200</td>\n",
              "    </tr>\n",
              "    <tr>\n",
              "      <th>5</th>\n",
              "      <td>India</td>\n",
              "      <td>1252140</td>\n",
              "      <td>240000</td>\n",
              "    </tr>\n",
              "    <tr>\n",
              "      <th>6</th>\n",
              "      <td>Mozambique</td>\n",
              "      <td>25834</td>\n",
              "      <td>18000</td>\n",
              "    </tr>\n",
              "    <tr>\n",
              "      <th>7</th>\n",
              "      <td>Portugal</td>\n",
              "      <td>10608</td>\n",
              "      <td>140</td>\n",
              "    </tr>\n",
              "    <tr>\n",
              "      <th>8</th>\n",
              "      <td>Russian Federation</td>\n",
              "      <td>142834</td>\n",
              "      <td>17000</td>\n",
              "    </tr>\n",
              "    <tr>\n",
              "      <th>9</th>\n",
              "      <td>Sao Tome and Principe</td>\n",
              "      <td>193</td>\n",
              "      <td>18</td>\n",
              "    </tr>\n",
              "    <tr>\n",
              "      <th>10</th>\n",
              "      <td>South Africa</td>\n",
              "      <td>52776</td>\n",
              "      <td>25000</td>\n",
              "    </tr>\n",
              "    <tr>\n",
              "      <th>11</th>\n",
              "      <td>Timor-Leste</td>\n",
              "      <td>1133</td>\n",
              "      <td>990</td>\n",
              "    </tr>\n",
              "  </tbody>\n",
              "</table>\n",
              "</div>\n",
              "      <button class=\"colab-df-convert\" onclick=\"convertToInteractive('df-2892942a-7ec6-44e3-a7d3-69a54625239c')\"\n",
              "              title=\"Convert this dataframe to an interactive table.\"\n",
              "              style=\"display:none;\">\n",
              "        \n",
              "  <svg xmlns=\"http://www.w3.org/2000/svg\" height=\"24px\"viewBox=\"0 0 24 24\"\n",
              "       width=\"24px\">\n",
              "    <path d=\"M0 0h24v24H0V0z\" fill=\"none\"/>\n",
              "    <path d=\"M18.56 5.44l.94 2.06.94-2.06 2.06-.94-2.06-.94-.94-2.06-.94 2.06-2.06.94zm-11 1L8.5 8.5l.94-2.06 2.06-.94-2.06-.94L8.5 2.5l-.94 2.06-2.06.94zm10 10l.94 2.06.94-2.06 2.06-.94-2.06-.94-.94-2.06-.94 2.06-2.06.94z\"/><path d=\"M17.41 7.96l-1.37-1.37c-.4-.4-.92-.59-1.43-.59-.52 0-1.04.2-1.43.59L10.3 9.45l-7.72 7.72c-.78.78-.78 2.05 0 2.83L4 21.41c.39.39.9.59 1.41.59.51 0 1.02-.2 1.41-.59l7.78-7.78 2.81-2.81c.8-.78.8-2.07 0-2.86zM5.41 20L4 18.59l7.72-7.72 1.47 1.35L5.41 20z\"/>\n",
              "  </svg>\n",
              "      </button>\n",
              "      \n",
              "  <style>\n",
              "    .colab-df-container {\n",
              "      display:flex;\n",
              "      flex-wrap:wrap;\n",
              "      gap: 12px;\n",
              "    }\n",
              "\n",
              "    .colab-df-convert {\n",
              "      background-color: #E8F0FE;\n",
              "      border: none;\n",
              "      border-radius: 50%;\n",
              "      cursor: pointer;\n",
              "      display: none;\n",
              "      fill: #1967D2;\n",
              "      height: 32px;\n",
              "      padding: 0 0 0 0;\n",
              "      width: 32px;\n",
              "    }\n",
              "\n",
              "    .colab-df-convert:hover {\n",
              "      background-color: #E2EBFA;\n",
              "      box-shadow: 0px 1px 2px rgba(60, 64, 67, 0.3), 0px 1px 3px 1px rgba(60, 64, 67, 0.15);\n",
              "      fill: #174EA6;\n",
              "    }\n",
              "\n",
              "    [theme=dark] .colab-df-convert {\n",
              "      background-color: #3B4455;\n",
              "      fill: #D2E3FC;\n",
              "    }\n",
              "\n",
              "    [theme=dark] .colab-df-convert:hover {\n",
              "      background-color: #434B5C;\n",
              "      box-shadow: 0px 1px 3px 1px rgba(0, 0, 0, 0.15);\n",
              "      filter: drop-shadow(0px 1px 2px rgba(0, 0, 0, 0.3));\n",
              "      fill: #FFFFFF;\n",
              "    }\n",
              "  </style>\n",
              "\n",
              "      <script>\n",
              "        const buttonEl =\n",
              "          document.querySelector('#df-2892942a-7ec6-44e3-a7d3-69a54625239c button.colab-df-convert');\n",
              "        buttonEl.style.display =\n",
              "          google.colab.kernel.accessAllowed ? 'block' : 'none';\n",
              "\n",
              "        async function convertToInteractive(key) {\n",
              "          const element = document.querySelector('#df-2892942a-7ec6-44e3-a7d3-69a54625239c');\n",
              "          const dataTable =\n",
              "            await google.colab.kernel.invokeFunction('convertToInteractive',\n",
              "                                                     [key], {});\n",
              "          if (!dataTable) return;\n",
              "\n",
              "          const docLinkHtml = 'Like what you see? Visit the ' +\n",
              "            '<a target=\"_blank\" href=https://colab.research.google.com/notebooks/data_table.ipynb>data table notebook</a>'\n",
              "            + ' to learn more about interactive tables.';\n",
              "          element.innerHTML = '';\n",
              "          dataTable['output_type'] = 'display_data';\n",
              "          await google.colab.output.renderOutput(dataTable, element);\n",
              "          const docLink = document.createElement('div');\n",
              "          docLink.innerHTML = docLinkHtml;\n",
              "          element.appendChild(docLink);\n",
              "        }\n",
              "      </script>\n",
              "    </div>\n",
              "  </div>\n",
              "  "
            ]
          },
          "metadata": {},
          "execution_count": 345
        }
      ]
    },
    {
      "cell_type": "code",
      "source": [
        "brics = data.loc[[1,8,5,2,10]] \n",
        "brics"
      ],
      "metadata": {
        "colab": {
          "base_uri": "https://localhost:8080/",
          "height": 206
        },
        "id": "24xZMxRxwBhg",
        "outputId": "1f16929d-f1ab-4f7b-aea2-5ee083814fa0"
      },
      "execution_count": 346,
      "outputs": [
        {
          "output_type": "execute_result",
          "data": {
            "text/plain": [
              "               Country  Population (1000s)  TB deaths\n",
              "1               Brazil              200362       4400\n",
              "8   Russian Federation              142834      17000\n",
              "5                India             1252140     240000\n",
              "2                China             1393337      41000\n",
              "10        South Africa               52776      25000"
            ],
            "text/html": [
              "\n",
              "  <div id=\"df-640f4555-7605-4261-aa6e-46532a8b091d\">\n",
              "    <div class=\"colab-df-container\">\n",
              "      <div>\n",
              "<style scoped>\n",
              "    .dataframe tbody tr th:only-of-type {\n",
              "        vertical-align: middle;\n",
              "    }\n",
              "\n",
              "    .dataframe tbody tr th {\n",
              "        vertical-align: top;\n",
              "    }\n",
              "\n",
              "    .dataframe thead th {\n",
              "        text-align: right;\n",
              "    }\n",
              "</style>\n",
              "<table border=\"1\" class=\"dataframe\">\n",
              "  <thead>\n",
              "    <tr style=\"text-align: right;\">\n",
              "      <th></th>\n",
              "      <th>Country</th>\n",
              "      <th>Population (1000s)</th>\n",
              "      <th>TB deaths</th>\n",
              "    </tr>\n",
              "  </thead>\n",
              "  <tbody>\n",
              "    <tr>\n",
              "      <th>1</th>\n",
              "      <td>Brazil</td>\n",
              "      <td>200362</td>\n",
              "      <td>4400</td>\n",
              "    </tr>\n",
              "    <tr>\n",
              "      <th>8</th>\n",
              "      <td>Russian Federation</td>\n",
              "      <td>142834</td>\n",
              "      <td>17000</td>\n",
              "    </tr>\n",
              "    <tr>\n",
              "      <th>5</th>\n",
              "      <td>India</td>\n",
              "      <td>1252140</td>\n",
              "      <td>240000</td>\n",
              "    </tr>\n",
              "    <tr>\n",
              "      <th>2</th>\n",
              "      <td>China</td>\n",
              "      <td>1393337</td>\n",
              "      <td>41000</td>\n",
              "    </tr>\n",
              "    <tr>\n",
              "      <th>10</th>\n",
              "      <td>South Africa</td>\n",
              "      <td>52776</td>\n",
              "      <td>25000</td>\n",
              "    </tr>\n",
              "  </tbody>\n",
              "</table>\n",
              "</div>\n",
              "      <button class=\"colab-df-convert\" onclick=\"convertToInteractive('df-640f4555-7605-4261-aa6e-46532a8b091d')\"\n",
              "              title=\"Convert this dataframe to an interactive table.\"\n",
              "              style=\"display:none;\">\n",
              "        \n",
              "  <svg xmlns=\"http://www.w3.org/2000/svg\" height=\"24px\"viewBox=\"0 0 24 24\"\n",
              "       width=\"24px\">\n",
              "    <path d=\"M0 0h24v24H0V0z\" fill=\"none\"/>\n",
              "    <path d=\"M18.56 5.44l.94 2.06.94-2.06 2.06-.94-2.06-.94-.94-2.06-.94 2.06-2.06.94zm-11 1L8.5 8.5l.94-2.06 2.06-.94-2.06-.94L8.5 2.5l-.94 2.06-2.06.94zm10 10l.94 2.06.94-2.06 2.06-.94-2.06-.94-.94-2.06-.94 2.06-2.06.94z\"/><path d=\"M17.41 7.96l-1.37-1.37c-.4-.4-.92-.59-1.43-.59-.52 0-1.04.2-1.43.59L10.3 9.45l-7.72 7.72c-.78.78-.78 2.05 0 2.83L4 21.41c.39.39.9.59 1.41.59.51 0 1.02-.2 1.41-.59l7.78-7.78 2.81-2.81c.8-.78.8-2.07 0-2.86zM5.41 20L4 18.59l7.72-7.72 1.47 1.35L5.41 20z\"/>\n",
              "  </svg>\n",
              "      </button>\n",
              "      \n",
              "  <style>\n",
              "    .colab-df-container {\n",
              "      display:flex;\n",
              "      flex-wrap:wrap;\n",
              "      gap: 12px;\n",
              "    }\n",
              "\n",
              "    .colab-df-convert {\n",
              "      background-color: #E8F0FE;\n",
              "      border: none;\n",
              "      border-radius: 50%;\n",
              "      cursor: pointer;\n",
              "      display: none;\n",
              "      fill: #1967D2;\n",
              "      height: 32px;\n",
              "      padding: 0 0 0 0;\n",
              "      width: 32px;\n",
              "    }\n",
              "\n",
              "    .colab-df-convert:hover {\n",
              "      background-color: #E2EBFA;\n",
              "      box-shadow: 0px 1px 2px rgba(60, 64, 67, 0.3), 0px 1px 3px 1px rgba(60, 64, 67, 0.15);\n",
              "      fill: #174EA6;\n",
              "    }\n",
              "\n",
              "    [theme=dark] .colab-df-convert {\n",
              "      background-color: #3B4455;\n",
              "      fill: #D2E3FC;\n",
              "    }\n",
              "\n",
              "    [theme=dark] .colab-df-convert:hover {\n",
              "      background-color: #434B5C;\n",
              "      box-shadow: 0px 1px 3px 1px rgba(0, 0, 0, 0.15);\n",
              "      filter: drop-shadow(0px 1px 2px rgba(0, 0, 0, 0.3));\n",
              "      fill: #FFFFFF;\n",
              "    }\n",
              "  </style>\n",
              "\n",
              "      <script>\n",
              "        const buttonEl =\n",
              "          document.querySelector('#df-640f4555-7605-4261-aa6e-46532a8b091d button.colab-df-convert');\n",
              "        buttonEl.style.display =\n",
              "          google.colab.kernel.accessAllowed ? 'block' : 'none';\n",
              "\n",
              "        async function convertToInteractive(key) {\n",
              "          const element = document.querySelector('#df-640f4555-7605-4261-aa6e-46532a8b091d');\n",
              "          const dataTable =\n",
              "            await google.colab.kernel.invokeFunction('convertToInteractive',\n",
              "                                                     [key], {});\n",
              "          if (!dataTable) return;\n",
              "\n",
              "          const docLinkHtml = 'Like what you see? Visit the ' +\n",
              "            '<a target=\"_blank\" href=https://colab.research.google.com/notebooks/data_table.ipynb>data table notebook</a>'\n",
              "            + ' to learn more about interactive tables.';\n",
              "          element.innerHTML = '';\n",
              "          dataTable['output_type'] = 'display_data';\n",
              "          await google.colab.output.renderOutput(dataTable, element);\n",
              "          const docLink = document.createElement('div');\n",
              "          docLink.innerHTML = docLinkHtml;\n",
              "          element.appendChild(docLink);\n",
              "        }\n",
              "      </script>\n",
              "    </div>\n",
              "  </div>\n",
              "  "
            ]
          },
          "metadata": {},
          "execution_count": 346
        }
      ]
    },
    {
      "cell_type": "code",
      "source": [
        "portugues = data.loc[[0,1,4,6,7,9,11]] \n",
        "portugues"
      ],
      "metadata": {
        "colab": {
          "base_uri": "https://localhost:8080/",
          "height": 269
        },
        "id": "g4Y8WcD2wQ0L",
        "outputId": "82aab340-30ed-404f-e306-4befc01de73b"
      },
      "execution_count": 347,
      "outputs": [
        {
          "output_type": "execute_result",
          "data": {
            "text/plain": [
              "                  Country  Population (1000s)  TB deaths\n",
              "0                  Angola               21472       6900\n",
              "1                  Brazil              200362       4400\n",
              "4           Guinea-Bissau                1704       1200\n",
              "6              Mozambique               25834      18000\n",
              "7                Portugal               10608        140\n",
              "9   Sao Tome and Principe                 193         18\n",
              "11            Timor-Leste                1133        990"
            ],
            "text/html": [
              "\n",
              "  <div id=\"df-fa57b1a5-a5e9-4299-a72a-43213140a63a\">\n",
              "    <div class=\"colab-df-container\">\n",
              "      <div>\n",
              "<style scoped>\n",
              "    .dataframe tbody tr th:only-of-type {\n",
              "        vertical-align: middle;\n",
              "    }\n",
              "\n",
              "    .dataframe tbody tr th {\n",
              "        vertical-align: top;\n",
              "    }\n",
              "\n",
              "    .dataframe thead th {\n",
              "        text-align: right;\n",
              "    }\n",
              "</style>\n",
              "<table border=\"1\" class=\"dataframe\">\n",
              "  <thead>\n",
              "    <tr style=\"text-align: right;\">\n",
              "      <th></th>\n",
              "      <th>Country</th>\n",
              "      <th>Population (1000s)</th>\n",
              "      <th>TB deaths</th>\n",
              "    </tr>\n",
              "  </thead>\n",
              "  <tbody>\n",
              "    <tr>\n",
              "      <th>0</th>\n",
              "      <td>Angola</td>\n",
              "      <td>21472</td>\n",
              "      <td>6900</td>\n",
              "    </tr>\n",
              "    <tr>\n",
              "      <th>1</th>\n",
              "      <td>Brazil</td>\n",
              "      <td>200362</td>\n",
              "      <td>4400</td>\n",
              "    </tr>\n",
              "    <tr>\n",
              "      <th>4</th>\n",
              "      <td>Guinea-Bissau</td>\n",
              "      <td>1704</td>\n",
              "      <td>1200</td>\n",
              "    </tr>\n",
              "    <tr>\n",
              "      <th>6</th>\n",
              "      <td>Mozambique</td>\n",
              "      <td>25834</td>\n",
              "      <td>18000</td>\n",
              "    </tr>\n",
              "    <tr>\n",
              "      <th>7</th>\n",
              "      <td>Portugal</td>\n",
              "      <td>10608</td>\n",
              "      <td>140</td>\n",
              "    </tr>\n",
              "    <tr>\n",
              "      <th>9</th>\n",
              "      <td>Sao Tome and Principe</td>\n",
              "      <td>193</td>\n",
              "      <td>18</td>\n",
              "    </tr>\n",
              "    <tr>\n",
              "      <th>11</th>\n",
              "      <td>Timor-Leste</td>\n",
              "      <td>1133</td>\n",
              "      <td>990</td>\n",
              "    </tr>\n",
              "  </tbody>\n",
              "</table>\n",
              "</div>\n",
              "      <button class=\"colab-df-convert\" onclick=\"convertToInteractive('df-fa57b1a5-a5e9-4299-a72a-43213140a63a')\"\n",
              "              title=\"Convert this dataframe to an interactive table.\"\n",
              "              style=\"display:none;\">\n",
              "        \n",
              "  <svg xmlns=\"http://www.w3.org/2000/svg\" height=\"24px\"viewBox=\"0 0 24 24\"\n",
              "       width=\"24px\">\n",
              "    <path d=\"M0 0h24v24H0V0z\" fill=\"none\"/>\n",
              "    <path d=\"M18.56 5.44l.94 2.06.94-2.06 2.06-.94-2.06-.94-.94-2.06-.94 2.06-2.06.94zm-11 1L8.5 8.5l.94-2.06 2.06-.94-2.06-.94L8.5 2.5l-.94 2.06-2.06.94zm10 10l.94 2.06.94-2.06 2.06-.94-2.06-.94-.94-2.06-.94 2.06-2.06.94z\"/><path d=\"M17.41 7.96l-1.37-1.37c-.4-.4-.92-.59-1.43-.59-.52 0-1.04.2-1.43.59L10.3 9.45l-7.72 7.72c-.78.78-.78 2.05 0 2.83L4 21.41c.39.39.9.59 1.41.59.51 0 1.02-.2 1.41-.59l7.78-7.78 2.81-2.81c.8-.78.8-2.07 0-2.86zM5.41 20L4 18.59l7.72-7.72 1.47 1.35L5.41 20z\"/>\n",
              "  </svg>\n",
              "      </button>\n",
              "      \n",
              "  <style>\n",
              "    .colab-df-container {\n",
              "      display:flex;\n",
              "      flex-wrap:wrap;\n",
              "      gap: 12px;\n",
              "    }\n",
              "\n",
              "    .colab-df-convert {\n",
              "      background-color: #E8F0FE;\n",
              "      border: none;\n",
              "      border-radius: 50%;\n",
              "      cursor: pointer;\n",
              "      display: none;\n",
              "      fill: #1967D2;\n",
              "      height: 32px;\n",
              "      padding: 0 0 0 0;\n",
              "      width: 32px;\n",
              "    }\n",
              "\n",
              "    .colab-df-convert:hover {\n",
              "      background-color: #E2EBFA;\n",
              "      box-shadow: 0px 1px 2px rgba(60, 64, 67, 0.3), 0px 1px 3px 1px rgba(60, 64, 67, 0.15);\n",
              "      fill: #174EA6;\n",
              "    }\n",
              "\n",
              "    [theme=dark] .colab-df-convert {\n",
              "      background-color: #3B4455;\n",
              "      fill: #D2E3FC;\n",
              "    }\n",
              "\n",
              "    [theme=dark] .colab-df-convert:hover {\n",
              "      background-color: #434B5C;\n",
              "      box-shadow: 0px 1px 3px 1px rgba(0, 0, 0, 0.15);\n",
              "      filter: drop-shadow(0px 1px 2px rgba(0, 0, 0, 0.3));\n",
              "      fill: #FFFFFF;\n",
              "    }\n",
              "  </style>\n",
              "\n",
              "      <script>\n",
              "        const buttonEl =\n",
              "          document.querySelector('#df-fa57b1a5-a5e9-4299-a72a-43213140a63a button.colab-df-convert');\n",
              "        buttonEl.style.display =\n",
              "          google.colab.kernel.accessAllowed ? 'block' : 'none';\n",
              "\n",
              "        async function convertToInteractive(key) {\n",
              "          const element = document.querySelector('#df-fa57b1a5-a5e9-4299-a72a-43213140a63a');\n",
              "          const dataTable =\n",
              "            await google.colab.kernel.invokeFunction('convertToInteractive',\n",
              "                                                     [key], {});\n",
              "          if (!dataTable) return;\n",
              "\n",
              "          const docLinkHtml = 'Like what you see? Visit the ' +\n",
              "            '<a target=\"_blank\" href=https://colab.research.google.com/notebooks/data_table.ipynb>data table notebook</a>'\n",
              "            + ' to learn more about interactive tables.';\n",
              "          element.innerHTML = '';\n",
              "          dataTable['output_type'] = 'display_data';\n",
              "          await google.colab.output.renderOutput(dataTable, element);\n",
              "          const docLink = document.createElement('div');\n",
              "          docLink.innerHTML = docLinkHtml;\n",
              "          element.appendChild(docLink);\n",
              "        }\n",
              "      </script>\n",
              "    </div>\n",
              "  </div>\n",
              "  "
            ]
          },
          "metadata": {},
          "execution_count": 347
        }
      ]
    },
    {
      "cell_type": "code",
      "source": [
        "# Dicionario paises que falam idioma portugues \n",
        "portugues = {'País': ['Angola', 'Brazil', 'Guinea-Bissau\t', 'Mozambique', 'Portugal', 'Sao Tome and Principe\t', 'Timor-Leste\t'],\n",
        "        'PopulaçãoM': [21472, 200362, 1704, 25834,10608,193,1133],\n",
        "                'Mortes': [6900, 4400, 1200, 18000,140,18,990]\n",
        "       }\n",
        "# Transformanco em Dataset\n",
        "data= pd.DataFrame(portugues)\n",
        "\n",
        "#Organizando os dados em order decrescente \n",
        "portugues = data.sort_values(by='Mortes', ascending=False)\n"
      ],
      "metadata": {
        "id": "d8YvYRfI4CdU"
      },
      "execution_count": 348,
      "outputs": []
    },
    {
      "cell_type": "markdown",
      "source": [
        "Funcoes"
      ],
      "metadata": {
        "id": "hUBpUQp4-Hae"
      }
    },
    {
      "cell_type": "code",
      "source": [
        "num_1 = 1\n",
        "print(f\"{num_1:0>10}\")\n",
        "\n",
        "num_2 = 150\n",
        "print(f\"{num_2:0>10}\")\n",
        "\n"
      ],
      "metadata": {
        "colab": {
          "base_uri": "https://localhost:8080/"
        },
        "id": "tQxdELpq9uut",
        "outputId": "88ca66da-3058-463b-8a3a-bf12c8af50fb"
      },
      "execution_count": 359,
      "outputs": [
        {
          "output_type": "stream",
          "name": "stdout",
          "text": [
            "0000000001\n",
            "0000000150\n"
          ]
        }
      ]
    },
    {
      "cell_type": "code",
      "source": [
        "def formatar (valor):\n",
        "  return'{:,.3f}'.format(valor) ##formatando"
      ],
      "metadata": {
        "id": "AI-vWtqvS_5C"
      },
      "execution_count": null,
      "outputs": []
    },
    {
      "cell_type": "code",
      "source": [
        "def percentage(part, whole):\n",
        "  percentage = tbM * 100 / tbP\n",
        "  return str(percentage) + \"%\""
      ],
      "metadata": {
        "id": "8V9FkDys9kUM"
      },
      "execution_count": 350,
      "outputs": []
    },
    {
      "cell_type": "code",
      "source": [
        "## Outra alternativa de solucao\n",
        "## portugues[\"Rate\"] = portugues[\"Mortes\"]*100/portugues[\"PopulaçãoM\"]\n",
        "## portugues.round()\n",
        "\n",
        "portugues['Mortes'] = portugues['Mortes'].astype(float)\n",
        "portugues['PopulaçãoM'] = portugues['PopulaçãoM'].astype(float)\n",
        "\n",
        "tbM = portugues['Mortes']\n",
        "tbP = portugues['PopulaçãoM']\n",
        "pais = portugues['País']\t\n",
        "portugues['Mortes(per 100,000)'] = tbM * 100 / tbP\n",
        "tbMc = portugues['Mortes(per 100,000)']\n",
        "portugues.round()\n"
      ],
      "metadata": {
        "colab": {
          "base_uri": "https://localhost:8080/",
          "height": 269
        },
        "id": "MCf-L9fAPyki",
        "outputId": "8fe4ab88-4ba0-463e-e492-3c70033432cb"
      },
      "execution_count": 351,
      "outputs": [
        {
          "output_type": "execute_result",
          "data": {
            "text/plain": [
              "                      País  PopulaçãoM   Mortes  Mortes(per 100,000)\n",
              "3               Mozambique     25834.0  18000.0                 70.0\n",
              "0                   Angola     21472.0   6900.0                 32.0\n",
              "1                   Brazil    200362.0   4400.0                  2.0\n",
              "2          Guinea-Bissau\\t      1704.0   1200.0                 70.0\n",
              "6            Timor-Leste\\t      1133.0    990.0                 87.0\n",
              "4                 Portugal     10608.0    140.0                  1.0\n",
              "5  Sao Tome and Principe\\t       193.0     18.0                  9.0"
            ],
            "text/html": [
              "\n",
              "  <div id=\"df-2ad7c061-bbde-4e07-92ca-151ea55f3ae9\">\n",
              "    <div class=\"colab-df-container\">\n",
              "      <div>\n",
              "<style scoped>\n",
              "    .dataframe tbody tr th:only-of-type {\n",
              "        vertical-align: middle;\n",
              "    }\n",
              "\n",
              "    .dataframe tbody tr th {\n",
              "        vertical-align: top;\n",
              "    }\n",
              "\n",
              "    .dataframe thead th {\n",
              "        text-align: right;\n",
              "    }\n",
              "</style>\n",
              "<table border=\"1\" class=\"dataframe\">\n",
              "  <thead>\n",
              "    <tr style=\"text-align: right;\">\n",
              "      <th></th>\n",
              "      <th>País</th>\n",
              "      <th>PopulaçãoM</th>\n",
              "      <th>Mortes</th>\n",
              "      <th>Mortes(per 100,000)</th>\n",
              "    </tr>\n",
              "  </thead>\n",
              "  <tbody>\n",
              "    <tr>\n",
              "      <th>3</th>\n",
              "      <td>Mozambique</td>\n",
              "      <td>25834.0</td>\n",
              "      <td>18000.0</td>\n",
              "      <td>70.0</td>\n",
              "    </tr>\n",
              "    <tr>\n",
              "      <th>0</th>\n",
              "      <td>Angola</td>\n",
              "      <td>21472.0</td>\n",
              "      <td>6900.0</td>\n",
              "      <td>32.0</td>\n",
              "    </tr>\n",
              "    <tr>\n",
              "      <th>1</th>\n",
              "      <td>Brazil</td>\n",
              "      <td>200362.0</td>\n",
              "      <td>4400.0</td>\n",
              "      <td>2.0</td>\n",
              "    </tr>\n",
              "    <tr>\n",
              "      <th>2</th>\n",
              "      <td>Guinea-Bissau\\t</td>\n",
              "      <td>1704.0</td>\n",
              "      <td>1200.0</td>\n",
              "      <td>70.0</td>\n",
              "    </tr>\n",
              "    <tr>\n",
              "      <th>6</th>\n",
              "      <td>Timor-Leste\\t</td>\n",
              "      <td>1133.0</td>\n",
              "      <td>990.0</td>\n",
              "      <td>87.0</td>\n",
              "    </tr>\n",
              "    <tr>\n",
              "      <th>4</th>\n",
              "      <td>Portugal</td>\n",
              "      <td>10608.0</td>\n",
              "      <td>140.0</td>\n",
              "      <td>1.0</td>\n",
              "    </tr>\n",
              "    <tr>\n",
              "      <th>5</th>\n",
              "      <td>Sao Tome and Principe\\t</td>\n",
              "      <td>193.0</td>\n",
              "      <td>18.0</td>\n",
              "      <td>9.0</td>\n",
              "    </tr>\n",
              "  </tbody>\n",
              "</table>\n",
              "</div>\n",
              "      <button class=\"colab-df-convert\" onclick=\"convertToInteractive('df-2ad7c061-bbde-4e07-92ca-151ea55f3ae9')\"\n",
              "              title=\"Convert this dataframe to an interactive table.\"\n",
              "              style=\"display:none;\">\n",
              "        \n",
              "  <svg xmlns=\"http://www.w3.org/2000/svg\" height=\"24px\"viewBox=\"0 0 24 24\"\n",
              "       width=\"24px\">\n",
              "    <path d=\"M0 0h24v24H0V0z\" fill=\"none\"/>\n",
              "    <path d=\"M18.56 5.44l.94 2.06.94-2.06 2.06-.94-2.06-.94-.94-2.06-.94 2.06-2.06.94zm-11 1L8.5 8.5l.94-2.06 2.06-.94-2.06-.94L8.5 2.5l-.94 2.06-2.06.94zm10 10l.94 2.06.94-2.06 2.06-.94-2.06-.94-.94-2.06-.94 2.06-2.06.94z\"/><path d=\"M17.41 7.96l-1.37-1.37c-.4-.4-.92-.59-1.43-.59-.52 0-1.04.2-1.43.59L10.3 9.45l-7.72 7.72c-.78.78-.78 2.05 0 2.83L4 21.41c.39.39.9.59 1.41.59.51 0 1.02-.2 1.41-.59l7.78-7.78 2.81-2.81c.8-.78.8-2.07 0-2.86zM5.41 20L4 18.59l7.72-7.72 1.47 1.35L5.41 20z\"/>\n",
              "  </svg>\n",
              "      </button>\n",
              "      \n",
              "  <style>\n",
              "    .colab-df-container {\n",
              "      display:flex;\n",
              "      flex-wrap:wrap;\n",
              "      gap: 12px;\n",
              "    }\n",
              "\n",
              "    .colab-df-convert {\n",
              "      background-color: #E8F0FE;\n",
              "      border: none;\n",
              "      border-radius: 50%;\n",
              "      cursor: pointer;\n",
              "      display: none;\n",
              "      fill: #1967D2;\n",
              "      height: 32px;\n",
              "      padding: 0 0 0 0;\n",
              "      width: 32px;\n",
              "    }\n",
              "\n",
              "    .colab-df-convert:hover {\n",
              "      background-color: #E2EBFA;\n",
              "      box-shadow: 0px 1px 2px rgba(60, 64, 67, 0.3), 0px 1px 3px 1px rgba(60, 64, 67, 0.15);\n",
              "      fill: #174EA6;\n",
              "    }\n",
              "\n",
              "    [theme=dark] .colab-df-convert {\n",
              "      background-color: #3B4455;\n",
              "      fill: #D2E3FC;\n",
              "    }\n",
              "\n",
              "    [theme=dark] .colab-df-convert:hover {\n",
              "      background-color: #434B5C;\n",
              "      box-shadow: 0px 1px 3px 1px rgba(0, 0, 0, 0.15);\n",
              "      filter: drop-shadow(0px 1px 2px rgba(0, 0, 0, 0.3));\n",
              "      fill: #FFFFFF;\n",
              "    }\n",
              "  </style>\n",
              "\n",
              "      <script>\n",
              "        const buttonEl =\n",
              "          document.querySelector('#df-2ad7c061-bbde-4e07-92ca-151ea55f3ae9 button.colab-df-convert');\n",
              "        buttonEl.style.display =\n",
              "          google.colab.kernel.accessAllowed ? 'block' : 'none';\n",
              "\n",
              "        async function convertToInteractive(key) {\n",
              "          const element = document.querySelector('#df-2ad7c061-bbde-4e07-92ca-151ea55f3ae9');\n",
              "          const dataTable =\n",
              "            await google.colab.kernel.invokeFunction('convertToInteractive',\n",
              "                                                     [key], {});\n",
              "          if (!dataTable) return;\n",
              "\n",
              "          const docLinkHtml = 'Like what you see? Visit the ' +\n",
              "            '<a target=\"_blank\" href=https://colab.research.google.com/notebooks/data_table.ipynb>data table notebook</a>'\n",
              "            + ' to learn more about interactive tables.';\n",
              "          element.innerHTML = '';\n",
              "          dataTable['output_type'] = 'display_data';\n",
              "          await google.colab.output.renderOutput(dataTable, element);\n",
              "          const docLink = document.createElement('div');\n",
              "          docLink.innerHTML = docLinkHtml;\n",
              "          element.appendChild(docLink);\n",
              "        }\n",
              "      </script>\n",
              "    </div>\n",
              "  </div>\n",
              "  "
            ]
          },
          "metadata": {},
          "execution_count": 351
        }
      ]
    },
    {
      "cell_type": "markdown",
      "source": [
        "Formatando os Dados da Tabela"
      ],
      "metadata": {
        "id": "mO5G50_nsPtn"
      }
    },
    {
      "cell_type": "code",
      "source": [
        "portugues.info()"
      ],
      "metadata": {
        "colab": {
          "base_uri": "https://localhost:8080/"
        },
        "id": "yFmJpnv5ylIF",
        "outputId": "9f5a1c88-a24c-46bc-c727-f8f7e738ae4c"
      },
      "execution_count": 352,
      "outputs": [
        {
          "output_type": "stream",
          "name": "stdout",
          "text": [
            "<class 'pandas.core.frame.DataFrame'>\n",
            "Int64Index: 7 entries, 3 to 5\n",
            "Data columns (total 4 columns):\n",
            " #   Column               Non-Null Count  Dtype  \n",
            "---  ------               --------------  -----  \n",
            " 0   País                 7 non-null      object \n",
            " 1   PopulaçãoM           7 non-null      float64\n",
            " 2   Mortes               7 non-null      float64\n",
            " 3   Mortes(per 100,000)  7 non-null      float64\n",
            "dtypes: float64(3), object(1)\n",
            "memory usage: 280.0+ bytes\n"
          ]
        }
      ]
    },
    {
      "cell_type": "markdown",
      "source": [
        "Vizualizando os Dados"
      ],
      "metadata": {
        "id": "kysfoPukeNiv"
      }
    },
    {
      "cell_type": "code",
      "source": [
        "pd.set_option('display.precision', 2, silent = True)\n",
        "portugues.style.background_gradient(axis=0, gmap=portugues['Mortes'], cmap='YlOrRd')\n"
      ],
      "metadata": {
        "colab": {
          "base_uri": "https://localhost:8080/",
          "height": 269
        },
        "id": "bmorveJygYJu",
        "outputId": "5dc5cb03-ef48-4ebd-d164-a6853dea4fa8"
      },
      "execution_count": 353,
      "outputs": [
        {
          "output_type": "execute_result",
          "data": {
            "text/plain": [
              "<pandas.io.formats.style.Styler at 0x7f86d87f9030>"
            ],
            "text/html": [
              "<style type=\"text/css\">\n",
              "#T_75de8_row0_col0, #T_75de8_row0_col1, #T_75de8_row0_col2, #T_75de8_row0_col3 {\n",
              "  background-color: #800026;\n",
              "  color: #f1f1f1;\n",
              "}\n",
              "#T_75de8_row1_col0, #T_75de8_row1_col1, #T_75de8_row1_col2, #T_75de8_row1_col3 {\n",
              "  background-color: #feb04b;\n",
              "  color: #000000;\n",
              "}\n",
              "#T_75de8_row2_col0, #T_75de8_row2_col1, #T_75de8_row2_col2, #T_75de8_row2_col3 {\n",
              "  background-color: #feda78;\n",
              "  color: #000000;\n",
              "}\n",
              "#T_75de8_row3_col0, #T_75de8_row3_col1, #T_75de8_row3_col2, #T_75de8_row3_col3 {\n",
              "  background-color: #fff6b6;\n",
              "  color: #000000;\n",
              "}\n",
              "#T_75de8_row4_col0, #T_75de8_row4_col1, #T_75de8_row4_col2, #T_75de8_row4_col3 {\n",
              "  background-color: #fff8ba;\n",
              "  color: #000000;\n",
              "}\n",
              "#T_75de8_row5_col0, #T_75de8_row5_col1, #T_75de8_row5_col2, #T_75de8_row5_col3 {\n",
              "  background-color: #fffecb;\n",
              "  color: #000000;\n",
              "}\n",
              "#T_75de8_row6_col0, #T_75de8_row6_col1, #T_75de8_row6_col2, #T_75de8_row6_col3 {\n",
              "  background-color: #ffffcc;\n",
              "  color: #000000;\n",
              "}\n",
              "</style>\n",
              "<table id=\"T_75de8\" class=\"dataframe\">\n",
              "  <thead>\n",
              "    <tr>\n",
              "      <th class=\"blank level0\" >&nbsp;</th>\n",
              "      <th id=\"T_75de8_level0_col0\" class=\"col_heading level0 col0\" >País</th>\n",
              "      <th id=\"T_75de8_level0_col1\" class=\"col_heading level0 col1\" >PopulaçãoM</th>\n",
              "      <th id=\"T_75de8_level0_col2\" class=\"col_heading level0 col2\" >Mortes</th>\n",
              "      <th id=\"T_75de8_level0_col3\" class=\"col_heading level0 col3\" >Mortes(per 100,000)</th>\n",
              "    </tr>\n",
              "  </thead>\n",
              "  <tbody>\n",
              "    <tr>\n",
              "      <th id=\"T_75de8_level0_row0\" class=\"row_heading level0 row0\" >3</th>\n",
              "      <td id=\"T_75de8_row0_col0\" class=\"data row0 col0\" >Mozambique</td>\n",
              "      <td id=\"T_75de8_row0_col1\" class=\"data row0 col1\" >25834.000000</td>\n",
              "      <td id=\"T_75de8_row0_col2\" class=\"data row0 col2\" >18000.000000</td>\n",
              "      <td id=\"T_75de8_row0_col3\" class=\"data row0 col3\" >69.675621</td>\n",
              "    </tr>\n",
              "    <tr>\n",
              "      <th id=\"T_75de8_level0_row1\" class=\"row_heading level0 row1\" >0</th>\n",
              "      <td id=\"T_75de8_row1_col0\" class=\"data row1 col0\" >Angola</td>\n",
              "      <td id=\"T_75de8_row1_col1\" class=\"data row1 col1\" >21472.000000</td>\n",
              "      <td id=\"T_75de8_row1_col2\" class=\"data row1 col2\" >6900.000000</td>\n",
              "      <td id=\"T_75de8_row1_col3\" class=\"data row1 col3\" >32.134873</td>\n",
              "    </tr>\n",
              "    <tr>\n",
              "      <th id=\"T_75de8_level0_row2\" class=\"row_heading level0 row2\" >1</th>\n",
              "      <td id=\"T_75de8_row2_col0\" class=\"data row2 col0\" >Brazil</td>\n",
              "      <td id=\"T_75de8_row2_col1\" class=\"data row2 col1\" >200362.000000</td>\n",
              "      <td id=\"T_75de8_row2_col2\" class=\"data row2 col2\" >4400.000000</td>\n",
              "      <td id=\"T_75de8_row2_col3\" class=\"data row2 col3\" >2.196025</td>\n",
              "    </tr>\n",
              "    <tr>\n",
              "      <th id=\"T_75de8_level0_row3\" class=\"row_heading level0 row3\" >2</th>\n",
              "      <td id=\"T_75de8_row3_col0\" class=\"data row3 col0\" >Guinea-Bissau\t</td>\n",
              "      <td id=\"T_75de8_row3_col1\" class=\"data row3 col1\" >1704.000000</td>\n",
              "      <td id=\"T_75de8_row3_col2\" class=\"data row3 col2\" >1200.000000</td>\n",
              "      <td id=\"T_75de8_row3_col3\" class=\"data row3 col3\" >70.422535</td>\n",
              "    </tr>\n",
              "    <tr>\n",
              "      <th id=\"T_75de8_level0_row4\" class=\"row_heading level0 row4\" >6</th>\n",
              "      <td id=\"T_75de8_row4_col0\" class=\"data row4 col0\" >Timor-Leste\t</td>\n",
              "      <td id=\"T_75de8_row4_col1\" class=\"data row4 col1\" >1133.000000</td>\n",
              "      <td id=\"T_75de8_row4_col2\" class=\"data row4 col2\" >990.000000</td>\n",
              "      <td id=\"T_75de8_row4_col3\" class=\"data row4 col3\" >87.378641</td>\n",
              "    </tr>\n",
              "    <tr>\n",
              "      <th id=\"T_75de8_level0_row5\" class=\"row_heading level0 row5\" >4</th>\n",
              "      <td id=\"T_75de8_row5_col0\" class=\"data row5 col0\" >Portugal</td>\n",
              "      <td id=\"T_75de8_row5_col1\" class=\"data row5 col1\" >10608.000000</td>\n",
              "      <td id=\"T_75de8_row5_col2\" class=\"data row5 col2\" >140.000000</td>\n",
              "      <td id=\"T_75de8_row5_col3\" class=\"data row5 col3\" >1.319759</td>\n",
              "    </tr>\n",
              "    <tr>\n",
              "      <th id=\"T_75de8_level0_row6\" class=\"row_heading level0 row6\" >5</th>\n",
              "      <td id=\"T_75de8_row6_col0\" class=\"data row6 col0\" >Sao Tome and Principe\t</td>\n",
              "      <td id=\"T_75de8_row6_col1\" class=\"data row6 col1\" >193.000000</td>\n",
              "      <td id=\"T_75de8_row6_col2\" class=\"data row6 col2\" >18.000000</td>\n",
              "      <td id=\"T_75de8_row6_col3\" class=\"data row6 col3\" >9.326425</td>\n",
              "    </tr>\n",
              "  </tbody>\n",
              "</table>\n"
            ]
          },
          "metadata": {},
          "execution_count": 353
        }
      ]
    },
    {
      "cell_type": "code",
      "source": [
        "## print(f'O pais com o maior percentual de mortes por Tuberculose em 2013 foi Mozambique, com {}') - formatacao em formato de texto, chamado de f strg"
      ],
      "metadata": {
        "id": "V32eR2RfnIpk"
      },
      "execution_count": 354,
      "outputs": []
    },
    {
      "cell_type": "code",
      "source": [
        "fig = plt.figure(figsize=(15,8))\n",
        "ax = fig.add_axes([0, 0, 1, 1])\n",
        "plt.title('Numero de mortes a cada 100.000 Habitantes 2013')\n",
        "\n",
        "ax.plot(pais, tbM)\n",
        "plt.show()"
      ],
      "metadata": {
        "colab": {
          "base_uri": "https://localhost:8080/",
          "height": 868
        },
        "id": "WlZ89rORdcTI",
        "outputId": "193adb3b-4f53-47db-a447-0af3c1611908"
      },
      "execution_count": 355,
      "outputs": [
        {
          "output_type": "stream",
          "name": "stderr",
          "text": [
            "/usr/local/lib/python3.10/dist-packages/IPython/core/pylabtools.py:151: UserWarning: Glyph 9 (\t) missing from current font.\n",
            "  fig.canvas.print_figure(bytes_io, **kw)\n"
          ]
        },
        {
          "output_type": "display_data",
          "data": {
            "text/plain": [
              "<Figure size 1500x800 with 1 Axes>"
            ],
            "image/png": "[encoded data removed]"
          },
          "metadata": {}
        }
      ]
    },
    {
      "cell_type": "code",
      "source": [
        "fig = plt.figure(figsize=(15,8))\n",
        "ax = fig.add_axes([0, 0, 1, 1])\n",
        "\n",
        "bottom = np.zeros(7)\n",
        "\n",
        "# Example data\n",
        "people = (25834, 21472, 200362, 1704, 1133, 10608, 193)\n",
        "mortes = (18000, 6900, 4400, 1200, 990, 140, 18)\n",
        "y_pos = ('Mozambique', 'Angola', 'Brazil', 'Guinea-Bissau\\t', 'Timor-Leste\\t'\t, 'Portugal', 'Sao Tome and Principe\\t'\t)\n",
        "performance =(25834, 21472, 200362, 1704, 1133, 10608, 193)\n",
        "\n",
        "weight_counts = {\n",
        "    \"População em Milhoes\": np.array(people),\n",
        "    \"Mortes a cada 100.000 habitantes\": np.array(mortes),\n",
        "}\n",
        "width = 0.5\n",
        "\n",
        "for boolean, weight_count in weight_counts.items():\n",
        "    p = ax.bar(y_pos, weight_count, width, label=boolean, bottom=bottom)\n",
        "    bottom += weight_count\n",
        "\n",
        "ax.set_title(\"Relacao entre populacao e quantidade de mortes por tuberculose a cada 100.000 habitantes\")\n",
        "ax.legend(loc=\"upper right\")\n",
        "\n",
        "plt.show()"
      ],
      "metadata": {
        "colab": {
          "base_uri": "https://localhost:8080/",
          "height": 836
        },
        "id": "5Z1Hgf_ReNPn",
        "outputId": "f90f54b1-cc9e-45a9-b051-14c666efdde6"
      },
      "execution_count": 356,
      "outputs": [
        {
          "output_type": "display_data",
          "data": {
            "text/plain": [
              "<Figure size 1500x800 with 1 Axes>"
            ],
            "image/png": "[encoded data removed]"
          },
          "metadata": {}
        }
      ]
    },
    {
      "cell_type": "code",
      "source": [
        "# 1. Qual o total, maximo, minimo e media de mortes no ano de 2013.\n",
        "valor_minimo = tbMc.min()\n",
        "print(f\" O valor minimo de mortes por 100.000 habitantes foi de aproximadamente {(valor_minimo).round(3)}\"\" mil\")\n",
        "valor_maximo = tbMc.max()\n",
        "print(f\"O valor maximo de mortes por 100.000 habitantes foi de aproximadamente {(valor_maximo).round(3)} \"\" mil\")\n",
        "valor_media = tbMc.mean()\n",
        "print(f\"O valor medio de mortes por 100.000 habitantes foi de aproximadamente {(valor_media).round(3)} \"\" mil\")\n",
        "# 2. Quais nacoes tiveram os melhores e piores resultados?\n",
        "print(\"Portugal teve o menor impacto negativo por 100.000 habitantes, enquanto Timor-Lesteteve o maior impacto negativo\")\n",
        "# 3. Qual o rate de mortes ( considerando a cada 100.000 > habitantes) por nacao? \n",
        "print(\"a lista de paises esta apresentada na tabela analisada acima\")\n",
        "# 4. Quais foram as nacoes com o maior e o menor rate?\n",
        "print(\"a lista de paises esta apresentada na tabela analisada acima\")\n"
      ],
      "metadata": {
        "id": "vUriD7ofjO9t"
      },
      "execution_count": null,
      "outputs": []
    },
    {
      "cell_type": "code",
      "source": [],
      "metadata": {
        "id": "UVCUWfU3suFs",
        "outputId": "31403d8e-cc4b-46a7-baf3-1ed46f3dd5ff",
        "colab": {
          "base_uri": "https://localhost:8080/"
        }
      },
      "execution_count": 362,
      "outputs": [
        {
          "output_type": "stream",
          "name": "stdout",
          "text": [
            "fatal: not a git repository (or any of the parent directories): .git\n"
          ]
        }
      ]
    },
    {
      "cell_type": "code",
      "source": [],
      "metadata": {
        "colab": {
          "base_uri": "https://localhost:8080/"
        },
        "id": "PHGbxoGiVkKs",
        "outputId": "a76043ba-4e99-4b15-ce7e-60c6d85ebf73"
      },
      "execution_count": 363,
      "outputs": [
        {
          "output_type": "stream",
          "name": "stdout",
          "text": [
            "fatal: not a git repository (or any of the parent directories): .git\n"
          ]
        }
      ]
    },
    {
      "cell_type": "code",
      "source": [],
      "metadata": {
        "id": "VmQgJHXHVkAa"
      },
      "execution_count": null,
      "outputs": []
    }
  ]
}